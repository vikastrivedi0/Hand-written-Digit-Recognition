{
  "nbformat": 4,
  "nbformat_minor": 0,
  "metadata": {
    "colab": {
      "name": "HandWritten Digit Recognition.ipynb",
      "provenance": [],
      "collapsed_sections": []
    },
    "kernelspec": {
      "name": "python3",
      "display_name": "Python 3"
    },
    "accelerator": "GPU"
  },
  "cells": [
    {
      "cell_type": "code",
      "metadata": {
        "id": "xxMhHusxUhLO",
        "colab_type": "code",
        "colab": {}
      },
      "source": [
        "import keras\n",
        "import pandas as pd\n",
        "from keras.datasets import mnist\n",
        "import matplotlib.pyplot as mpl\n",
        "from keras.layers import Dense\n",
        "from keras.models import Sequential\n",
        "from keras.utils import to_categorical"
      ],
      "execution_count": 0,
      "outputs": []
    },
    {
      "cell_type": "markdown",
      "metadata": {
        "id": "ayOWv7meWMTy",
        "colab_type": "text"
      },
      "source": [
        "Loading Dataset"
      ]
    },
    {
      "cell_type": "code",
      "metadata": {
        "id": "zhlRolAhVDV6",
        "colab_type": "code",
        "colab": {
          "base_uri": "https://localhost:8080/",
          "height": 72
        },
        "outputId": "6f459a30-735a-456b-905c-21960f6342a1"
      },
      "source": [
        "(xtrain, ytrain), (xtest, ytest) = mnist.load_data()\n",
        "print('Dataset Loaded')"
      ],
      "execution_count": 2,
      "outputs": [
        {
          "output_type": "stream",
          "text": [
            "Downloading data from https://s3.amazonaws.com/img-datasets/mnist.npz\n",
            "11493376/11490434 [==============================] - 2s 0us/step\n",
            "Dataset Loaded\n"
          ],
          "name": "stdout"
        }
      ]
    },
    {
      "cell_type": "markdown",
      "metadata": {
        "id": "oiYftRB3WQ2p",
        "colab_type": "text"
      },
      "source": [
        "Exploratory Analysis"
      ]
    },
    {
      "cell_type": "code",
      "metadata": {
        "id": "AvfmNtdWVU6M",
        "colab_type": "code",
        "colab": {
          "base_uri": "https://localhost:8080/",
          "height": 305
        },
        "outputId": "5e0e94d0-93b8-47b6-fa66-b0d2709461d6"
      },
      "source": [
        "for i in range(9):\n",
        "  mpl.subplot(330+1+i)\n",
        "  mpl.imshow(xtrain[i], cmap=mpl.get_cmap('gray'))\n",
        "mpl.show()\n",
        "\n",
        "print(xtrain[0].shape)\n",
        "print(ytrain[0])"
      ],
      "execution_count": 3,
      "outputs": [
        {
          "output_type": "display_data",
          "data": {
            "image/png": "[encoded data removed]",
            "text/plain": [
              "<Figure size 432x288 with 9 Axes>"
            ]
          },
          "metadata": {
            "tags": [],
            "needs_background": "light"
          }
        },
        {
          "output_type": "stream",
          "text": [
            "(28, 28)\n",
            "5\n"
          ],
          "name": "stdout"
        }
      ]
    },
    {
      "cell_type": "code",
      "metadata": {
        "id": "zstG1ZJUZqli",
        "colab_type": "code",
        "colab": {
          "base_uri": "https://localhost:8080/",
          "height": 90
        },
        "outputId": "59bd695c-03ee-4a3d-ad01-f7e6b53b92a7"
      },
      "source": [
        "print(xtrain[0].shape)\n",
        "print(ytrain[0])\n",
        "print(len(xtrain))\n",
        "print(len(xtest))"
      ],
      "execution_count": 4,
      "outputs": [
        {
          "output_type": "stream",
          "text": [
            "(28, 28)\n",
            "5\n",
            "60000\n",
            "10000\n"
          ],
          "name": "stdout"
        }
      ]
    },
    {
      "cell_type": "code",
      "metadata": {
        "id": "nkKk8fHnBhY5",
        "colab_type": "code",
        "colab": {
          "base_uri": "https://localhost:8080/",
          "height": 72
        },
        "outputId": "0c63bd1c-ef33-4fcd-cbef-5cf1ef368d5a"
      },
      "source": [
        "new=[]\n",
        "for i in range(len(xtrain)):\n",
        "  new.append(xtrain[i].flatten())\n",
        "train_df=pd.DataFrame(new)\n",
        "new=[]\n",
        "for i in range(len(xtest)):\n",
        "  new.append(xtest[i].flatten())\n",
        "test_df=pd.DataFrame(new)\n",
        "print(train_df.shape)\n",
        "print(test_df.shape)\n",
        "print(ytrain.shape)"
      ],
      "execution_count": 5,
      "outputs": [
        {
          "output_type": "stream",
          "text": [
            "(60000, 784)\n",
            "(10000, 784)\n",
            "(60000,)\n"
          ],
          "name": "stdout"
        }
      ]
    },
    {
      "cell_type": "code",
      "metadata": {
        "id": "HBVJ55q8GGfQ",
        "colab_type": "code",
        "colab": {
          "base_uri": "https://localhost:8080/",
          "height": 164
        },
        "outputId": "cb8c1551-b7e9-4152-d635-71220a40d71f"
      },
      "source": [
        "ytrain=to_categorical(ytrain)\n",
        "print(ytrain)\n",
        "print(ytrain.shape)"
      ],
      "execution_count": 13,
      "outputs": [
        {
          "output_type": "stream",
          "text": [
            "[[0. 0. 0. ... 0. 0. 0.]\n",
            " [1. 0. 0. ... 0. 0. 0.]\n",
            " [0. 0. 0. ... 0. 0. 0.]\n",
            " ...\n",
            " [0. 0. 0. ... 0. 0. 0.]\n",
            " [0. 0. 0. ... 0. 0. 0.]\n",
            " [0. 0. 0. ... 0. 1. 0.]]\n",
            "(60000, 10)\n"
          ],
          "name": "stdout"
        }
      ]
    },
    {
      "cell_type": "markdown",
      "metadata": {
        "id": "BkS21NgWFGII",
        "colab_type": "text"
      },
      "source": [
        "Model ANN"
      ]
    },
    {
      "cell_type": "code",
      "metadata": {
        "id": "0nrC7DEXFID1",
        "colab_type": "code",
        "colab": {
          "base_uri": "https://localhost:8080/",
          "height": 35
        },
        "outputId": "c30a651b-c60d-4f3d-d786-d1c992345619"
      },
      "source": [
        "ann=Sequential()\n",
        "ann.add(Dense(128,activation='relu'))\n",
        "ann.add(Dense(64,activation='relu'))\n",
        "ann.add(Dense(128,activation='relu'))\n",
        "ann.add(Dense(128,activation='relu'))\n",
        "ann.add(Dense(32,activation='relu'))\n",
        "ann.add(Dense(10,activation='softmax'))\n",
        "ann.compile(loss='categorical_crossentropy',optimizer='adam',metrics=['accuracy'])\n",
        "print('Model ready')"
      ],
      "execution_count": 25,
      "outputs": [
        {
          "output_type": "stream",
          "text": [
            "Model ready\n"
          ],
          "name": "stdout"
        }
      ]
    },
    {
      "cell_type": "markdown",
      "metadata": {
        "id": "FHbVidx6JGz0",
        "colab_type": "text"
      },
      "source": [
        "Model training"
      ]
    },
    {
      "cell_type": "code",
      "metadata": {
        "id": "ANAVYPKr0ty4",
        "colab_type": "code",
        "colab": {
          "base_uri": "https://localhost:8080/",
          "height": 1000
        },
        "outputId": "0cbca175-b80b-43dc-a5d7-a870cb03679b"
      },
      "source": [
        "history=ann.fit(train_df,ytrain,batch_size=10,epochs=50)"
      ],
      "execution_count": 26,
      "outputs": [
        {
          "output_type": "stream",
          "text": [
            "Epoch 1/50\n",
            "60000/60000 [==============================] - 28s 471us/step - loss: 0.4687 - accuracy: 0.8807\n",
            "Epoch 2/50\n",
            "60000/60000 [==============================] - 28s 475us/step - loss: 0.2101 - accuracy: 0.9452\n",
            "Epoch 3/50\n",
            "60000/60000 [==============================] - 27s 452us/step - loss: 0.1639 - accuracy: 0.9587\n",
            "Epoch 4/50\n",
            "60000/60000 [==============================] - 28s 460us/step - loss: 0.1375 - accuracy: 0.9654\n",
            "Epoch 5/50\n",
            "60000/60000 [==============================] - 27s 453us/step - loss: 0.1218 - accuracy: 0.9694\n",
            "Epoch 6/50\n",
            "60000/60000 [==============================] - 27s 452us/step - loss: 0.1103 - accuracy: 0.9729\n",
            "Epoch 7/50\n",
            "60000/60000 [==============================] - 27s 446us/step - loss: 0.1031 - accuracy: 0.9747\n",
            "Epoch 8/50\n",
            "60000/60000 [==============================] - 27s 454us/step - loss: 0.0957 - accuracy: 0.9766\n",
            "Epoch 9/50\n",
            "60000/60000 [==============================] - 27s 448us/step - loss: 0.0941 - accuracy: 0.9780\n",
            "Epoch 10/50\n",
            "60000/60000 [==============================] - 27s 448us/step - loss: 0.0852 - accuracy: 0.9802\n",
            "Epoch 11/50\n",
            "60000/60000 [==============================] - 27s 458us/step - loss: 0.0842 - accuracy: 0.9803\n",
            "Epoch 12/50\n",
            "60000/60000 [==============================] - 27s 450us/step - loss: 0.0824 - accuracy: 0.9801\n",
            "Epoch 13/50\n",
            "60000/60000 [==============================] - 26s 440us/step - loss: 0.0870 - accuracy: 0.9814\n",
            "Epoch 14/50\n",
            "60000/60000 [==============================] - 27s 450us/step - loss: 0.0752 - accuracy: 0.9822\n",
            "Epoch 15/50\n",
            "60000/60000 [==============================] - 27s 450us/step - loss: 0.0721 - accuracy: 0.9837\n",
            "Epoch 16/50\n",
            "60000/60000 [==============================] - 27s 455us/step - loss: 0.0788 - accuracy: 0.9828\n",
            "Epoch 17/50\n",
            "60000/60000 [==============================] - 27s 449us/step - loss: 0.0734 - accuracy: 0.9845\n",
            "Epoch 18/50\n",
            "60000/60000 [==============================] - 27s 442us/step - loss: 0.0769 - accuracy: 0.9840\n",
            "Epoch 19/50\n",
            "60000/60000 [==============================] - 26s 438us/step - loss: 0.0686 - accuracy: 0.9852\n",
            "Epoch 20/50\n",
            "60000/60000 [==============================] - 27s 442us/step - loss: 0.0705 - accuracy: 0.9847\n",
            "Epoch 21/50\n",
            "60000/60000 [==============================] - 27s 448us/step - loss: 0.1010 - accuracy: 0.9818\n",
            "Epoch 22/50\n",
            "60000/60000 [==============================] - 27s 442us/step - loss: 0.1065 - accuracy: 0.9837\n",
            "Epoch 23/50\n",
            "60000/60000 [==============================] - 27s 448us/step - loss: 0.0633 - accuracy: 0.9864\n",
            "Epoch 24/50\n",
            "60000/60000 [==============================] - 27s 449us/step - loss: 0.0680 - accuracy: 0.9857\n",
            "Epoch 25/50\n",
            "60000/60000 [==============================] - 27s 443us/step - loss: 0.0743 - accuracy: 0.9859\n",
            "Epoch 26/50\n",
            "60000/60000 [==============================] - 27s 454us/step - loss: 0.0840 - accuracy: 0.9841\n",
            "Epoch 27/50\n",
            "60000/60000 [==============================] - 27s 453us/step - loss: 0.0895 - accuracy: 0.9854\n",
            "Epoch 28/50\n",
            "60000/60000 [==============================] - 27s 458us/step - loss: 0.0658 - accuracy: 0.9872\n",
            "Epoch 29/50\n",
            "60000/60000 [==============================] - 27s 446us/step - loss: 0.0709 - accuracy: 0.9870\n",
            "Epoch 30/50\n",
            "60000/60000 [==============================] - 26s 440us/step - loss: 0.0674 - accuracy: 0.9863\n",
            "Epoch 31/50\n",
            "60000/60000 [==============================] - 26s 440us/step - loss: 0.0676 - accuracy: 0.9871\n",
            "Epoch 32/50\n",
            "60000/60000 [==============================] - 26s 437us/step - loss: 0.1031 - accuracy: 0.9830\n",
            "Epoch 33/50\n",
            "60000/60000 [==============================] - 27s 442us/step - loss: 0.0556 - accuracy: 0.9884\n",
            "Epoch 34/50\n",
            "60000/60000 [==============================] - 27s 456us/step - loss: 0.0828 - accuracy: 0.9855\n",
            "Epoch 35/50\n",
            "60000/60000 [==============================] - 27s 445us/step - loss: 0.1039 - accuracy: 0.9779\n",
            "Epoch 36/50\n",
            "60000/60000 [==============================] - 26s 437us/step - loss: 0.1274 - accuracy: 0.9757\n",
            "Epoch 37/50\n",
            "60000/60000 [==============================] - 26s 439us/step - loss: 0.1652 - accuracy: 0.9672\n",
            "Epoch 38/50\n",
            "60000/60000 [==============================] - 27s 443us/step - loss: 0.1131 - accuracy: 0.9804\n",
            "Epoch 39/50\n",
            "60000/60000 [==============================] - 26s 440us/step - loss: 0.1380 - accuracy: 0.9714\n",
            "Epoch 40/50\n",
            "60000/60000 [==============================] - 26s 430us/step - loss: 0.0966 - accuracy: 0.9821\n",
            "Epoch 41/50\n",
            "60000/60000 [==============================] - 27s 443us/step - loss: 0.1406 - accuracy: 0.9761\n",
            "Epoch 42/50\n",
            "60000/60000 [==============================] - 26s 438us/step - loss: 0.0928 - accuracy: 0.9822\n",
            "Epoch 43/50\n",
            "60000/60000 [==============================] - 26s 435us/step - loss: 0.0879 - accuracy: 0.9840\n",
            "Epoch 44/50\n",
            "60000/60000 [==============================] - 26s 441us/step - loss: 0.1038 - accuracy: 0.9843\n",
            "Epoch 45/50\n",
            "60000/60000 [==============================] - 26s 441us/step - loss: 0.0850 - accuracy: 0.9861\n",
            "Epoch 46/50\n",
            "60000/60000 [==============================] - 27s 451us/step - loss: 0.1041 - accuracy: 0.9847\n",
            "Epoch 47/50\n",
            "60000/60000 [==============================] - 27s 444us/step - loss: 0.1388 - accuracy: 0.9779\n",
            "Epoch 48/50\n",
            "60000/60000 [==============================] - 27s 455us/step - loss: 0.1303 - accuracy: 0.9755\n",
            "Epoch 49/50\n",
            "60000/60000 [==============================] - 26s 441us/step - loss: 0.1206 - accuracy: 0.9797\n",
            "Epoch 50/50\n",
            "60000/60000 [==============================] - 27s 449us/step - loss: 0.0892 - accuracy: 0.9840\n"
          ],
          "name": "stdout"
        }
      ]
    },
    {
      "cell_type": "code",
      "metadata": {
        "id": "U3h32CzsPbHb",
        "colab_type": "code",
        "colab": {
          "base_uri": "https://localhost:8080/",
          "height": 295
        },
        "outputId": "f391307e-3df1-424f-a473-6adf3b0d5ca3"
      },
      "source": [
        "acc=history.history['accuracy']\n",
        "loss=history.history['loss']\n",
        "epochs=range(1,len(acc)+1)\n",
        "\n",
        "mpl.plot(epochs,acc,'b',label='Accuracy')\n",
        "mpl.plot(epochs,loss,'r',label='Loss')\n",
        "mpl.title('Epochs')\n",
        "mpl.ylabel('Metrics')\n",
        "mpl.xlabel('Metrics')\n",
        "mpl.legend()\n",
        "mpl.show()"
      ],
      "execution_count": 27,
      "outputs": [
        {
          "output_type": "display_data",
          "data": {
            "image/png": "[encoded data removed]",
            "text/plain": [
              "<Figure size 432x288 with 1 Axes>"
            ]
          },
          "metadata": {
            "tags": [],
            "needs_background": "light"
          }
        }
      ]
    },
    {
      "cell_type": "code",
      "metadata": {
        "id": "ezYTc1qtRdYW",
        "colab_type": "code",
        "colab": {
          "base_uri": "https://localhost:8080/",
          "height": 54
        },
        "outputId": "8ddfba7b-85bf-41b4-94c8-fdfa538c6f48"
      },
      "source": [
        "pred=ann.predict_classes(test_df)\n",
        "\n",
        "correct=0\n",
        "for i in range(len(ytest)):\n",
        "  if pred[i]==ytest[i]:\n",
        "    correct+=1\n",
        "print(correct,' out of ',len(ytest),' total')\n",
        "print('Accuracy on Test-set: ',round((correct/len(ytest))*100),'%')"
      ],
      "execution_count": 28,
      "outputs": [
        {
          "output_type": "stream",
          "text": [
            "9681  out of  10000  total\n",
            "Accuracy on Test-set:  97 %\n"
          ],
          "name": "stdout"
        }
      ]
    }
  ]
}